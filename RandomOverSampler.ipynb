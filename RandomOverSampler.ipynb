{
 "cells": [
  {
   "cell_type": "code",
   "execution_count": 2,
   "metadata": {},
   "outputs": [],
   "source": [
    "import pandas as pd\n",
    "import seaborn as sns\n",
    "import matplotlib.pyplot as plt\n",
    "import seaborn as sns\n",
    "import numpy as np\n",
    "import imblearn\n",
    "\n",
    "from sklearn.metrics import confusion_matrix\n",
    "from sklearn.metrics import accuracy_score\n",
    "from sklearn.metrics import recall_score\n",
    "from sklearn.metrics import precision_score\n",
    "\n",
    "from sklearn.ensemble import RandomForestClassifier\n",
    "from sklearn.model_selection import train_test_split"
   ]
  },
  {
   "cell_type": "code",
   "execution_count": 4,
   "metadata": {},
   "outputs": [],
   "source": [
    "pd.options.display.max_rows = 6000\n",
    "pd.options.display.max_columns = 80\n",
    "\n",
    "data = pd.read_csv('./brazilian-cities/BRAZIL_CITIES.csv', sep=\";\", decimal=\",\")\n",
    "\n",
    "##note que a df está sem a feature AREA e RURAL_URBAN\n",
    "\n",
    "ft1 = [\"IBGE_RES_POP\", \"IBGE_RES_POP_BRAS\", \"IBGE_RES_POP_ESTR\", \"IBGE_DU\", \"IBGE_DU_URBAN\", \"IBGE_DU_RURAL\", \"IBGE_POP\", \"IBGE_1\", \"IBGE_1-4\", \"IBGE_5-9\", \"IBGE_10-14\", \"IBGE_15-59\", \"IBGE_60+\", \"IBGE_PLANTED_AREA\", \"IBGE_CROP_PRODUCTION_$\", \"IDHM Ranking 2010\", \"IDHM\", \"IDHM_Renda\", \"IDHM_Longevidade\", \"IDHM_Educacao\", \"LONG\", \"LAT\", \"ALT\", \"PAY_TV\", \"FIXED_PHONES\", \"ESTIMATED_POP\", \"GVA_AGROPEC\", \"GVA_INDUSTRY\", \"GVA_SERVICES\", \"GVA_PUBLIC\", \"TAXES\", \"GDP\", \"POP_GDP\", \"GDP_CAPITA\", \"MUN_EXPENDIT\", \"COMP_TOT\", \"COMP_A\", \"COMP_B\", \"COMP_C\", \"COMP_D\", \"COMP_E\", \"COMP_F\", \"COMP_G\", \"COMP_H\", \"COMP_I\", \"COMP_J\", \"COMP_K\", \"COMP_L\", \"COMP_M\", \"COMP_N\", \"COMP_O\", \"COMP_P\", \"COMP_Q\", \"COMP_R\", \"COMP_S\", \"COMP_T\", \"COMP_U\", \"HOTELS\", \"BEDS\", \"Pr_Agencies\", \"Pu_Agencies\", \"Pr_Bank\", \"Pu_Bank\", \"Pr_Assets\", \"Pu_Assets\", \"Cars\", \"Motorcycles\", \"Wheeled_tractor\", \"UBER\", \"MAC\", \"WAL-MART\", \"POST_OFFICES\"]\n",
    "df1 = data[ft1]\n",
    "\n",
    "ft = [\"IBGE_RES_POP\", \"IBGE_RES_POP_BRAS\", \"IBGE_RES_POP_ESTR\", \"IBGE_DU\", \"IBGE_DU_URBAN\", \"IBGE_DU_RURAL\", \"IBGE_POP\", \"IBGE_1\", \"IBGE_1-4\", \"IBGE_5-9\", \"IBGE_10-14\", \"IBGE_15-59\", \"IBGE_60+\", \"IBGE_PLANTED_AREA\", \"IBGE_CROP_PRODUCTION_$\",\"LONG\", \"LAT\" ,\"ALT\", \"PAY_TV\", \"FIXED_PHONES\", \"ESTIMATED_POP\", \"GVA_AGROPEC\", \"GVA_INDUSTRY\", \"GVA_SERVICES\", \"GVA_PUBLIC\", \"TAXES\", \"GDP\", \"POP_GDP\", \"MUN_EXPENDIT\", \"COMP_TOT\", \"COMP_A\", \"COMP_B\", \"COMP_C\", \"COMP_D\", \"COMP_E\", \"COMP_F\", \"COMP_G\", \"COMP_H\", \"COMP_I\", \"COMP_J\", \"COMP_K\", \"COMP_L\", \"COMP_M\", \"COMP_N\", \"COMP_O\", \"COMP_P\", \"COMP_Q\", \"COMP_R\", \"COMP_S\", \"COMP_T\", \"COMP_U\", \"HOTELS\", \"BEDS\", \"Pr_Agencies\", \"Pu_Agencies\", \"Pr_Bank\", \"Pu_Bank\", \"Pr_Assets\", \"Pu_Assets\", \"Cars\", \"Motorcycles\", \"Wheeled_tractor\", \"UBER\", \"MAC\", \"WAL-MART\", \"POST_OFFICES\"]\n",
    "df = data[ft]"
   ]
  },
  {
   "cell_type": "code",
   "execution_count": 5,
   "metadata": {},
   "outputs": [
    {
     "name": "stderr",
     "output_type": "stream",
     "text": [
      "/home/giovanna/anaconda3/lib/python3.7/site-packages/ipykernel_launcher.py:1: SettingWithCopyWarning: \n",
      "A value is trying to be set on a copy of a slice from a DataFrame.\n",
      "Try using .loc[row_indexer,col_indexer] = value instead\n",
      "\n",
      "See the caveats in the documentation: http://pandas.pydata.org/pandas-docs/stable/user_guide/indexing.html#returning-a-view-versus-a-copy\n",
      "  \"\"\"Entry point for launching an IPython kernel.\n",
      "/home/giovanna/anaconda3/lib/python3.7/site-packages/ipykernel_launcher.py:2: SettingWithCopyWarning: \n",
      "A value is trying to be set on a copy of a slice from a DataFrame.\n",
      "Try using .loc[row_indexer,col_indexer] = value instead\n",
      "\n",
      "See the caveats in the documentation: http://pandas.pydata.org/pandas-docs/stable/user_guide/indexing.html#returning-a-view-versus-a-copy\n",
      "  \n",
      "/home/giovanna/anaconda3/lib/python3.7/site-packages/ipykernel_launcher.py:3: SettingWithCopyWarning: \n",
      "A value is trying to be set on a copy of a slice from a DataFrame.\n",
      "Try using .loc[row_indexer,col_indexer] = value instead\n",
      "\n",
      "See the caveats in the documentation: http://pandas.pydata.org/pandas-docs/stable/user_guide/indexing.html#returning-a-view-versus-a-copy\n",
      "  This is separate from the ipykernel package so we can avoid doing imports until\n",
      "/home/giovanna/anaconda3/lib/python3.7/site-packages/ipykernel_launcher.py:6: SettingWithCopyWarning: \n",
      "A value is trying to be set on a copy of a slice from a DataFrame.\n",
      "Try using .loc[row_indexer,col_indexer] = value instead\n",
      "\n",
      "See the caveats in the documentation: http://pandas.pydata.org/pandas-docs/stable/user_guide/indexing.html#returning-a-view-versus-a-copy\n",
      "  \n",
      "/home/giovanna/anaconda3/lib/python3.7/site-packages/ipykernel_launcher.py:7: SettingWithCopyWarning: \n",
      "A value is trying to be set on a copy of a slice from a DataFrame.\n",
      "Try using .loc[row_indexer,col_indexer] = value instead\n",
      "\n",
      "See the caveats in the documentation: http://pandas.pydata.org/pandas-docs/stable/user_guide/indexing.html#returning-a-view-versus-a-copy\n",
      "  import sys\n",
      "/home/giovanna/anaconda3/lib/python3.7/site-packages/ipykernel_launcher.py:8: SettingWithCopyWarning: \n",
      "A value is trying to be set on a copy of a slice from a DataFrame.\n",
      "Try using .loc[row_indexer,col_indexer] = value instead\n",
      "\n",
      "See the caveats in the documentation: http://pandas.pydata.org/pandas-docs/stable/user_guide/indexing.html#returning-a-view-versus-a-copy\n",
      "  \n",
      "/home/giovanna/anaconda3/lib/python3.7/site-packages/ipykernel_launcher.py:9: SettingWithCopyWarning: \n",
      "A value is trying to be set on a copy of a slice from a DataFrame.\n",
      "Try using .loc[row_indexer,col_indexer] = value instead\n",
      "\n",
      "See the caveats in the documentation: http://pandas.pydata.org/pandas-docs/stable/user_guide/indexing.html#returning-a-view-versus-a-copy\n",
      "  if __name__ == '__main__':\n",
      "/home/giovanna/anaconda3/lib/python3.7/site-packages/ipykernel_launcher.py:10: SettingWithCopyWarning: \n",
      "A value is trying to be set on a copy of a slice from a DataFrame.\n",
      "Try using .loc[row_indexer,col_indexer] = value instead\n",
      "\n",
      "See the caveats in the documentation: http://pandas.pydata.org/pandas-docs/stable/user_guide/indexing.html#returning-a-view-versus-a-copy\n",
      "  # Remove the CWD from sys.path while we load stuff.\n",
      "/home/giovanna/anaconda3/lib/python3.7/site-packages/ipykernel_launcher.py:11: SettingWithCopyWarning: \n",
      "A value is trying to be set on a copy of a slice from a DataFrame.\n",
      "Try using .loc[row_indexer,col_indexer] = value instead\n",
      "\n",
      "See the caveats in the documentation: http://pandas.pydata.org/pandas-docs/stable/user_guide/indexing.html#returning-a-view-versus-a-copy\n",
      "  # This is added back by InteractiveShellApp.init_path()\n"
     ]
    }
   ],
   "source": [
    "df['LONG'] = df['LONG'].astype(float)\n",
    "df['LAT'] = df['LAT'].astype(float)\n",
    "df['ALT'] = df['ALT'].astype(float)\n",
    "#df['AREA'] = df['AREA'].astype(float)\n",
    "#df['RURAL_URBAN'] = df['RURAL_URBAN'].astype(float)\n",
    "df['GVA_AGROPEC'] = df['GVA_AGROPEC'].astype(float)\n",
    "df['GVA_INDUSTRY'] = df['GVA_INDUSTRY'].astype(float)\n",
    "df['GVA_SERVICES'] = df['GVA_SERVICES'].astype(float)\n",
    "df['GVA_PUBLIC'] = df['GVA_PUBLIC'].astype(float)\n",
    "df['TAXES'] = df['TAXES'].astype(float)\n",
    "df['GDP'] = df['GDP'].astype(float)\n",
    "#df['GDP_CAPITA'] = df['GDP_CAPITA'].astype(float)"
   ]
  },
  {
   "cell_type": "code",
   "execution_count": 6,
   "metadata": {},
   "outputs": [
    {
     "name": "stderr",
     "output_type": "stream",
     "text": [
      "/home/giovanna/anaconda3/lib/python3.7/site-packages/ipykernel_launcher.py:1: SettingWithCopyWarning: \n",
      "A value is trying to be set on a copy of a slice from a DataFrame.\n",
      "Try using .loc[row_indexer,col_indexer] = value instead\n",
      "\n",
      "See the caveats in the documentation: http://pandas.pydata.org/pandas-docs/stable/user_guide/indexing.html#returning-a-view-versus-a-copy\n",
      "  \"\"\"Entry point for launching an IPython kernel.\n",
      "/home/giovanna/anaconda3/lib/python3.7/site-packages/ipykernel_launcher.py:15: SettingWithCopyWarning: \n",
      "A value is trying to be set on a copy of a slice from a DataFrame.\n",
      "Try using .loc[row_indexer,col_indexer] = value instead\n",
      "\n",
      "See the caveats in the documentation: http://pandas.pydata.org/pandas-docs/stable/user_guide/indexing.html#returning-a-view-versus-a-copy\n",
      "  from ipykernel import kernelapp as app\n"
     ]
    }
   ],
   "source": [
    "df1['IDHM'] = df1['IDHM'].astype(float)\n",
    "\n",
    "def get_rotulo(value):\n",
    "    if value >= 0.8:\n",
    "        return \"muito_alto\"\n",
    "    elif 0.69 < value <= 0.79:\n",
    "        return \"alto\"\n",
    "    elif 0.59 < value <= 0.69:\n",
    "        return \"médio\"\n",
    "    elif 0.49 < value <= 0.59:\n",
    "        return \"baixo\"\n",
    "    else:\n",
    "        return \"muito_baixo\"\n",
    "\n",
    "df[\"rótulo\"] = df1['IDHM'].apply(get_rotulo)"
   ]
  },
  {
   "cell_type": "code",
   "execution_count": 10,
   "metadata": {},
   "outputs": [
    {
     "data": {
      "text/plain": [
       "médio          2226\n",
       "alto           2067\n",
       "baixo          1187\n",
       "muito_alto       50\n",
       "muito_baixo      43\n",
       "Name: rótulo, dtype: int64"
      ]
     },
     "execution_count": 10,
     "metadata": {},
     "output_type": "execute_result"
    }
   ],
   "source": [
    "n_classe = df.rótulo.value_counts()\n",
    "n_classe"
   ]
  },
  {
   "cell_type": "code",
   "execution_count": 11,
   "metadata": {},
   "outputs": [],
   "source": [
    "df=  df.fillna(0)"
   ]
  },
  {
   "cell_type": "code",
   "execution_count": 12,
   "metadata": {},
   "outputs": [],
   "source": [
    "#separação da classe em y\n",
    "X = df.iloc[:, 0:65].values\n",
    "y = df.iloc[:, 66].values"
   ]
  },
  {
   "cell_type": "code",
   "execution_count": 15,
   "metadata": {},
   "outputs": [],
   "source": [
    "from sklearn.model_selection import train_test_split\n",
    "\n",
    "X_train, X_test, y_train, y_test = train_test_split(X, y, test_size=0.3, random_state=0)"
   ]
  },
  {
   "cell_type": "code",
   "execution_count": 18,
   "metadata": {},
   "outputs": [
    {
     "name": "stdout",
     "output_type": "stream",
     "text": [
      "(3901, 65) (3901,)\n"
     ]
    }
   ],
   "source": [
    "print(X_train.shape, y_train.shape)"
   ]
  },
  {
   "cell_type": "code",
   "execution_count": 20,
   "metadata": {},
   "outputs": [
    {
     "name": "stdout",
     "output_type": "stream",
     "text": [
      "(5444, 65) (5444,)\n"
     ]
    }
   ],
   "source": [
    "from imblearn.over_sampling import RandomOverSampler\n",
    "\n",
    "ros = RandomOverSampler('minority')\n",
    "X_ros, y_ros = ros.fit_sample(X_train, y_train)\n",
    "print(X_ros.shape, y_ros.shape)"
   ]
  },
  {
   "cell_type": "code",
   "execution_count": 21,
   "metadata": {},
   "outputs": [
    {
     "data": {
      "text/plain": [
       "0.7858851674641149"
      ]
     },
     "execution_count": 21,
     "metadata": {},
     "output_type": "execute_result"
    }
   ],
   "source": [
    "from sklearn.ensemble import RandomForestClassifier\n",
    "\n",
    "#100 árvores\n",
    "model = RandomForestClassifier(n_estimators=100, \n",
    "                               bootstrap = True,\n",
    "                               max_features = 'sqrt')\n",
    "\n",
    "model.fit(X_ros, y_ros)\n",
    "y_pred = model.predict(X_test)\n",
    "model.score(X_test, y_test)"
   ]
  },
  {
   "cell_type": "code",
   "execution_count": null,
   "metadata": {},
   "outputs": [],
   "source": []
  }
 ],
 "metadata": {
  "kernelspec": {
   "display_name": "Python 3",
   "language": "python",
   "name": "python3"
  },
  "language_info": {
   "codemirror_mode": {
    "name": "ipython",
    "version": 3
   },
   "file_extension": ".py",
   "mimetype": "text/x-python",
   "name": "python",
   "nbconvert_exporter": "python",
   "pygments_lexer": "ipython3",
   "version": "3.7.4"
  }
 },
 "nbformat": 4,
 "nbformat_minor": 2
}
