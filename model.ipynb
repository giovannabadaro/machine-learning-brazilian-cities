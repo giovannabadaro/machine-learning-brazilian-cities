{
 "cells": [
  {
   "cell_type": "code",
   "execution_count": 19,
   "metadata": {},
   "outputs": [],
   "source": [
    "import pandas as pd\n",
    "import seaborn as sns\n",
    "import matplotlib.pyplot as plt\n",
    "import seaborn as sns\n",
    "import numpy as np\n",
    "import warnings\n",
    "\n",
    "from sklearn.metrics import confusion_matrix\n",
    "from sklearn.metrics import accuracy_score\n",
    "from sklearn.metrics import recall_score\n",
    "from sklearn.metrics import precision_score\n",
    "\n",
    "from sklearn.ensemble import RandomForestClassifier\n",
    "from sklearn.model_selection import train_test_split\n",
    "\n",
    "from sklearn.metrics import classification_report\n",
    "from sklearn.metrics import confusion_matrix\n",
    "\n",
    "from sklearn.model_selection import StratifiedShuffleSplit\n",
    "# Define random state\n",
    "random_state = 2018\n",
    "np.random.seed(random_state)\n",
    "warnings.filterwarnings('ignore')"
   ]
  },
  {
   "cell_type": "code",
   "execution_count": 2,
   "metadata": {},
   "outputs": [],
   "source": [
    "pd.options.display.max_rows = 6000\n",
    "pd.options.display.max_columns = 80\n",
    "\n",
    "data = pd.read_csv('./brazilian-cities/BRAZIL_CITIES.csv', sep=\";\", decimal=\",\")\n",
    "\n",
    "##note que a df está sem a feature AREA e RURAL_URBAN\n",
    "\n",
    "ft1 = [\"IBGE_RES_POP\", \"IBGE_RES_POP_BRAS\", \"IBGE_RES_POP_ESTR\", \"IBGE_DU\", \"IBGE_DU_URBAN\", \"IBGE_DU_RURAL\", \"IBGE_POP\", \"IBGE_1\", \"IBGE_1-4\", \"IBGE_5-9\", \"IBGE_10-14\", \"IBGE_15-59\", \"IBGE_60+\", \"IBGE_PLANTED_AREA\", \"IBGE_CROP_PRODUCTION_$\", \"IDHM Ranking 2010\", \"IDHM\", \"IDHM_Renda\", \"IDHM_Longevidade\", \"IDHM_Educacao\", \"LONG\", \"LAT\", \"ALT\", \"PAY_TV\", \"FIXED_PHONES\", \"ESTIMATED_POP\", \"GVA_AGROPEC\", \"GVA_INDUSTRY\", \"GVA_SERVICES\", \"GVA_PUBLIC\", \"TAXES\", \"GDP\", \"POP_GDP\", \"GDP_CAPITA\", \"MUN_EXPENDIT\", \"COMP_TOT\", \"COMP_A\", \"COMP_B\", \"COMP_C\", \"COMP_D\", \"COMP_E\", \"COMP_F\", \"COMP_G\", \"COMP_H\", \"COMP_I\", \"COMP_J\", \"COMP_K\", \"COMP_L\", \"COMP_M\", \"COMP_N\", \"COMP_O\", \"COMP_P\", \"COMP_Q\", \"COMP_R\", \"COMP_S\", \"COMP_T\", \"COMP_U\", \"HOTELS\", \"BEDS\", \"Pr_Agencies\", \"Pu_Agencies\", \"Pr_Bank\", \"Pu_Bank\", \"Pr_Assets\", \"Pu_Assets\", \"Cars\", \"Motorcycles\", \"Wheeled_tractor\", \"UBER\", \"MAC\", \"WAL-MART\", \"POST_OFFICES\"]\n",
    "df1 = data[ft1]\n",
    "\n",
    "ft = [\"IBGE_RES_POP\", \"IBGE_RES_POP_BRAS\", \"IBGE_RES_POP_ESTR\", \"IBGE_DU\", \"IBGE_DU_URBAN\", \"IBGE_DU_RURAL\", \"IBGE_POP\", \"IBGE_1\", \"IBGE_1-4\", \"IBGE_5-9\", \"IBGE_10-14\", \"IBGE_15-59\", \"IBGE_60+\", \"IBGE_PLANTED_AREA\", \"IBGE_CROP_PRODUCTION_$\",\"LONG\", \"LAT\" ,\"ALT\", \"PAY_TV\", \"FIXED_PHONES\", \"ESTIMATED_POP\", \"GVA_AGROPEC\", \"GVA_INDUSTRY\", \"GVA_SERVICES\", \"GVA_PUBLIC\", \"TAXES\", \"GDP\", \"POP_GDP\", \"MUN_EXPENDIT\", \"COMP_TOT\", \"COMP_A\", \"COMP_B\", \"COMP_C\", \"COMP_D\", \"COMP_E\", \"COMP_F\", \"COMP_G\", \"COMP_H\", \"COMP_I\", \"COMP_J\", \"COMP_K\", \"COMP_L\", \"COMP_M\", \"COMP_N\", \"COMP_O\", \"COMP_P\", \"COMP_Q\", \"COMP_R\", \"COMP_S\", \"COMP_T\", \"COMP_U\", \"HOTELS\", \"BEDS\", \"Pr_Agencies\", \"Pu_Agencies\", \"Pr_Bank\", \"Pu_Bank\", \"Pr_Assets\", \"Pu_Assets\", \"Cars\", \"Motorcycles\", \"Wheeled_tractor\", \"UBER\", \"MAC\", \"WAL-MART\", \"POST_OFFICES\"]\n",
    "df = data[ft]"
   ]
  },
  {
   "cell_type": "code",
   "execution_count": 3,
   "metadata": {},
   "outputs": [],
   "source": [
    "df['LONG'] = df['LONG'].astype(float)\n",
    "df['LAT'] = df['LAT'].astype(float)\n",
    "df['ALT'] = df['ALT'].astype(float)\n",
    "#df['AREA'] = df['AREA'].astype(float)\n",
    "#df['RURAL_URBAN'] = df['RURAL_URBAN'].astype(float)\n",
    "df['GVA_AGROPEC'] = df['GVA_AGROPEC'].astype(float)\n",
    "df['GVA_INDUSTRY'] = df['GVA_INDUSTRY'].astype(float)\n",
    "df['GVA_SERVICES'] = df['GVA_SERVICES'].astype(float)\n",
    "df['GVA_PUBLIC'] = df['GVA_PUBLIC'].astype(float)\n",
    "df['TAXES'] = df['TAXES'].astype(float)\n",
    "df['GDP'] = df['GDP'].astype(float)\n",
    "#df['GDP_CAPITA'] = df['GDP_CAPITA'].astype(float)\n"
   ]
  },
  {
   "cell_type": "code",
   "execution_count": 4,
   "metadata": {},
   "outputs": [],
   "source": [
    "df1['IDHM'] = df1['IDHM'].astype(float)\n",
    "\n",
    "def get_rotulo(value):\n",
    "    if value >= 0.8:\n",
    "        return \"muito_alto\"\n",
    "    elif 0.69 < value <= 0.79:\n",
    "        return \"alto\"\n",
    "    elif 0.59 < value <= 0.69:\n",
    "        return \"médio\"\n",
    "    elif 0.49 < value <= 0.59:\n",
    "        return \"baixo\"\n",
    "    else:\n",
    "        return \"muito_baixo\"\n",
    "\n",
    "df[\"rótulo\"] = df1['IDHM'].apply(get_rotulo)"
   ]
  },
  {
   "cell_type": "code",
   "execution_count": 5,
   "metadata": {},
   "outputs": [
    {
     "name": "stdout",
     "output_type": "stream",
     "text": [
      "67\n"
     ]
    }
   ],
   "source": [
    "print(len(df.columns))"
   ]
  },
  {
   "cell_type": "code",
   "execution_count": 6,
   "metadata": {},
   "outputs": [
    {
     "name": "stdout",
     "output_type": "stream",
     "text": [
      "IBGE_RES_POP              float64\n",
      "IBGE_RES_POP_BRAS         float64\n",
      "IBGE_RES_POP_ESTR         float64\n",
      "IBGE_DU                   float64\n",
      "IBGE_DU_URBAN             float64\n",
      "IBGE_DU_RURAL             float64\n",
      "IBGE_POP                  float64\n",
      "IBGE_1                    float64\n",
      "IBGE_1-4                  float64\n",
      "IBGE_5-9                  float64\n",
      "IBGE_10-14                float64\n",
      "IBGE_15-59                float64\n",
      "IBGE_60+                  float64\n",
      "IBGE_PLANTED_AREA         float64\n",
      "IBGE_CROP_PRODUCTION_$    float64\n",
      "LONG                      float64\n",
      "LAT                       float64\n",
      "ALT                       float64\n",
      "PAY_TV                    float64\n",
      "FIXED_PHONES              float64\n",
      "ESTIMATED_POP             float64\n",
      "GVA_AGROPEC               float64\n",
      "GVA_INDUSTRY              float64\n",
      "GVA_SERVICES              float64\n",
      "GVA_PUBLIC                float64\n",
      "TAXES                     float64\n",
      "GDP                       float64\n",
      "POP_GDP                   float64\n",
      "MUN_EXPENDIT              float64\n",
      "COMP_TOT                  float64\n",
      "COMP_A                    float64\n",
      "COMP_B                    float64\n",
      "COMP_C                    float64\n",
      "COMP_D                    float64\n",
      "COMP_E                    float64\n",
      "COMP_F                    float64\n",
      "COMP_G                    float64\n",
      "COMP_H                    float64\n",
      "COMP_I                    float64\n",
      "COMP_J                    float64\n",
      "COMP_K                    float64\n",
      "COMP_L                    float64\n",
      "COMP_M                    float64\n",
      "COMP_N                    float64\n",
      "COMP_O                    float64\n",
      "COMP_P                    float64\n",
      "COMP_Q                    float64\n",
      "COMP_R                    float64\n",
      "COMP_S                    float64\n",
      "COMP_T                    float64\n",
      "COMP_U                    float64\n",
      "HOTELS                    float64\n",
      "BEDS                      float64\n",
      "Pr_Agencies               float64\n",
      "Pu_Agencies               float64\n",
      "Pr_Bank                   float64\n",
      "Pu_Bank                   float64\n",
      "Pr_Assets                 float64\n",
      "Pu_Assets                 float64\n",
      "Cars                      float64\n",
      "Motorcycles               float64\n",
      "Wheeled_tractor           float64\n",
      "UBER                      float64\n",
      "MAC                       float64\n",
      "WAL-MART                  float64\n",
      "POST_OFFICES              float64\n",
      "rótulo                     object\n",
      "dtype: object\n"
     ]
    }
   ],
   "source": [
    "print(df.dtypes)"
   ]
  },
  {
   "cell_type": "code",
   "execution_count": 7,
   "metadata": {},
   "outputs": [],
   "source": [
    "df=  df.fillna(0)"
   ]
  },
  {
   "cell_type": "code",
   "execution_count": 8,
   "metadata": {},
   "outputs": [],
   "source": [
    "#separação da classe em y\n",
    "X = df.iloc[:, 0:65].values\n",
    "y = df.iloc[:, 66].values"
   ]
  },
  {
   "cell_type": "code",
   "execution_count": 9,
   "metadata": {},
   "outputs": [],
   "source": [
    "from sklearn.model_selection import train_test_split\n",
    "\n",
    "X_train, X_test, y_train, y_test = train_test_split(X, y, test_size=0.3, random_state=0)\n",
    "\n"
   ]
  },
  {
   "cell_type": "code",
   "execution_count": 10,
   "metadata": {},
   "outputs": [
    {
     "data": {
      "text/plain": [
       "0.7942583732057417"
      ]
     },
     "execution_count": 10,
     "metadata": {},
     "output_type": "execute_result"
    }
   ],
   "source": [
    "from sklearn.ensemble import RandomForestClassifier\n",
    "\n",
    "#100 árvores\n",
    "model = RandomForestClassifier(n_estimators=100, \n",
    "                               bootstrap = True,\n",
    "                               max_features = 'sqrt')\n",
    "\n",
    "model.fit(X_train, y_train)\n",
    "y_pred = model.predict(X_test)\n",
    "model.score(X_test, y_test)"
   ]
  },
  {
   "cell_type": "markdown",
   "metadata": {},
   "source": [
    "### Classification report"
   ]
  },
  {
   "cell_type": "code",
   "execution_count": 11,
   "metadata": {},
   "outputs": [
    {
     "name": "stdout",
     "output_type": "stream",
     "text": [
      "              precision    recall  f1-score   support\n",
      "\n",
      " muito baixo       0.84      0.88      0.86       625\n",
      "       baixo       0.79      0.73      0.76       364\n",
      "       médio       0.40      0.27      0.32        15\n",
      "        alto       1.00      0.07      0.13        14\n",
      "  muito alto       0.75      0.77      0.76       654\n",
      "\n",
      "    accuracy                           0.79      1672\n",
      "   macro avg       0.76      0.55      0.57      1672\n",
      "weighted avg       0.79      0.79      0.79      1672\n",
      "\n"
     ]
    }
   ],
   "source": [
    "target_names = ['muito baixo', 'baixo', 'médio', 'alto', 'muito alto']\n",
    "print(classification_report(y_test, y_pred, target_names=target_names))"
   ]
  },
  {
   "cell_type": "code",
   "execution_count": 12,
   "metadata": {
    "scrolled": true
   },
   "outputs": [
    {
     "name": "stdout",
     "output_type": "stream",
     "text": [
      "Feature ranking:\n",
      "1. feature 16 (0.089521)\n",
      "2. feature 15 (0.071762)\n",
      "3. feature 59 (0.046049)\n",
      "4. feature 19 (0.044486)\n",
      "5. feature 37 (0.042947)\n",
      "6. feature 5 (0.042692)\n",
      "7. feature 32 (0.026577)\n",
      "8. feature 1 (0.024089)\n",
      "9. feature 42 (0.023949)\n",
      "10. feature 27 (0.023544)\n",
      "11. feature 0 (0.022978)\n",
      "12. feature 38 (0.022913)\n",
      "13. feature 20 (0.022344)\n",
      "14. feature 29 (0.018915)\n",
      "15. feature 13 (0.018740)\n",
      "16. feature 17 (0.018700)\n",
      "17. feature 3 (0.016491)\n",
      "18. feature 23 (0.016118)\n",
      "19. feature 14 (0.015856)\n",
      "20. feature 60 (0.015606)\n",
      "21. feature 43 (0.014654)\n",
      "22. feature 25 (0.014431)\n",
      "23. feature 21 (0.014404)\n",
      "24. feature 18 (0.014153)\n",
      "25. feature 22 (0.013932)\n",
      "26. feature 47 (0.013420)\n",
      "27. feature 24 (0.013265)\n",
      "28. feature 35 (0.013178)\n",
      "29. feature 12 (0.013066)\n",
      "30. feature 30 (0.012821)\n",
      "31. feature 36 (0.012591)\n",
      "32. feature 8 (0.012203)\n",
      "33. feature 41 (0.012155)\n",
      "34. feature 61 (0.011835)\n",
      "35. feature 9 (0.011283)\n",
      "36. feature 10 (0.010996)\n",
      "37. feature 4 (0.010956)\n",
      "38. feature 11 (0.010639)\n",
      "39. feature 6 (0.010589)\n",
      "40. feature 26 (0.010402)\n",
      "41. feature 46 (0.010325)\n",
      "42. feature 7 (0.009962)\n",
      "43. feature 48 (0.009819)\n",
      "44. feature 28 (0.009403)\n",
      "45. feature 39 (0.009217)\n",
      "46. feature 40 (0.008950)\n",
      "47. feature 57 (0.008445)\n",
      "48. feature 45 (0.007933)\n",
      "49. feature 58 (0.007632)\n",
      "50. feature 55 (0.006772)\n",
      "51. feature 2 (0.006004)\n",
      "52. feature 31 (0.005071)\n",
      "53. feature 53 (0.004873)\n",
      "54. feature 44 (0.004485)\n",
      "55. feature 56 (0.003179)\n",
      "56. feature 54 (0.002988)\n",
      "57. feature 34 (0.002974)\n",
      "58. feature 52 (0.002578)\n",
      "59. feature 51 (0.001856)\n",
      "60. feature 33 (0.001670)\n",
      "61. feature 63 (0.000467)\n",
      "62. feature 62 (0.000079)\n",
      "63. feature 64 (0.000050)\n",
      "64. feature 50 (0.000019)\n",
      "65. feature 49 (0.000000)\n"
     ]
    },
    {
     "data": {
      "image/png": "[encoded data removed]",
      "text/plain": [
       "<Figure size 432x288 with 1 Axes>"
      ]
     },
     "metadata": {
      "needs_background": "light"
     },
     "output_type": "display_data"
    }
   ],
   "source": [
    "importances = model.feature_importances_\n",
    "std = np.std([tree.feature_importances_ for tree in model.estimators_],\n",
    "             axis=0)\n",
    "indices = np.argsort(importances)[::-1]\n",
    "\n",
    "# Print the feature ranking\n",
    "print(\"Feature ranking:\")\n",
    "\n",
    "for f in range(X_train.shape[1]):\n",
    "    print(\"%d. feature %d (%f)\" % (f + 1, indices[f], importances[indices[f]]))\n",
    "\n",
    "# Plot the feature importances of the forest\n",
    "plt.figure()\n",
    "plt.title(\"Feature importances\")\n",
    "plt.bar(range(X_train.shape[1]), importances[indices],\n",
    "       color=\"r\", yerr=std[indices], align=\"center\")\n",
    "plt.xticks(range(X_train.shape[1]), indices)\n",
    "plt.xlim([-1, X_train.shape[1]])\n",
    "plt.show()"
   ]
  },
  {
   "cell_type": "code",
   "execution_count": 13,
   "metadata": {},
   "outputs": [
    {
     "data": {
      "image/png": "[encoded data removed]",
      "text/plain": [
       "<Figure size 864x1440 with 1 Axes>"
      ]
     },
     "metadata": {
      "needs_background": "light"
     },
     "output_type": "display_data"
    }
   ],
   "source": [
    "features = [\"IBGE_RES_POP\", \"IBGE_RES_POP_BRAS\", \"IBGE_RES_POP_ESTR\", \"IBGE_DU\", \"IBGE_DU_URBAN\", \"IBGE_DU_RURAL\", \"IBGE_POP\", \"IBGE_1\", \"IBGE_1-4\", \"IBGE_5-9\", \"IBGE_10-14\", \"IBGE_15-59\", \"IBGE_60+\", \"IBGE_PLANTED_AREA\", \"IBGE_CROP_PRODUCTION_$\",\"LONG\", \"LAT\", \"ALT\", \"PAY_TV\", \"FIXED_PHONES\", \"ESTIMATED_POP\", \"GVA_AGROPEC\", \"GVA_INDUSTRY\", \"GVA_SERVICES\", \"GVA_PUBLIC\", \"TAXES\", \"GDP\", \"POP_GDP\", \"GDP_CAPITA\", \"MUN_EXPENDIT\", \"COMP_TOT\", \"COMP_A\", \"COMP_B\", \"COMP_C\", \"COMP_D\", \"COMP_E\", \"COMP_F\", \"COMP_G\", \"COMP_H\", \"COMP_I\", \"COMP_J\", \"COMP_K\", \"COMP_L\", \"COMP_M\", \"COMP_N\", \"COMP_O\", \"COMP_P\", \"COMP_Q\", \"COMP_R\", \"COMP_S\", \"COMP_T\", \"COMP_U\", \"HOTELS\", \"BEDS\", \"Pr_Agencies\", \"Pu_Agencies\", \"Pr_Bank\", \"Pu_Bank\", \"Pr_Assets\", \"Pu_Assets\", \"Cars\", \"Motorcycles\", \"Wheeled_tractor\", \"UBER\", \"MAC\", \"WAL-MART\", \"POST_OFFICES\"]\n",
    "importances = model.feature_importances_\n",
    "indices = np.argsort(importances)\n",
    "\n",
    "plt.figure(figsize=(12, 20))\n",
    "plt.title('Importância de cada feature')\n",
    "plt.barh(range(len(indices)), importances[indices], color='b', align='center')\n",
    "plt.yticks(range(len(indices)), [features[i] for i in indices])\n",
    "plt.show()\n"
   ]
  },
  {
   "cell_type": "code",
   "execution_count": 14,
   "metadata": {},
   "outputs": [],
   "source": [
    "def metrics (y_test, y_pred):\n",
    "  ac = accuracy_score(y_test, y_pred)\n",
    "  rec = recall_score(y_test,y_pred, average= 'weighted')\n",
    "  prec = precision_score(y_test,y_pred, average='weighted')\n",
    "  return (ac, rec, prec)"
   ]
  },
  {
   "cell_type": "code",
   "execution_count": 15,
   "metadata": {},
   "outputs": [
    {
     "name": "stdout",
     "output_type": "stream",
     "text": [
      "acuracia = 0.7942583732057417 , recall = 0.7942583732057417 , precisao = 0.7942607262497031 \n"
     ]
    }
   ],
   "source": [
    "acuracia, recall, precisao= metrics(y_test,y_pred)\n",
    "stringSaida= \"acuracia = {ac} , recall = {rec} , precisao = {prec} \".format (ac = acuracia, rec = recall, prec = precisao)\n",
    "print (stringSaida)"
   ]
  },
  {
   "cell_type": "markdown",
   "metadata": {},
   "source": [
    "## class_weight = Balanced"
   ]
  },
  {
   "cell_type": "code",
   "execution_count": 16,
   "metadata": {},
   "outputs": [
    {
     "data": {
      "text/plain": [
       "0.7924641148325359"
      ]
     },
     "execution_count": 16,
     "metadata": {},
     "output_type": "execute_result"
    }
   ],
   "source": [
    "from sklearn.ensemble import RandomForestClassifier\n",
    "\n",
    "#100 árvores\n",
    "model2 = RandomForestClassifier(n_estimators=100, \n",
    "                               bootstrap = True,\n",
    "                               max_features = 'sqrt',\n",
    "                               class_weight = 'balanced')\n",
    "\n",
    "model2.fit(X_train, y_train)\n",
    "y_pred2 = model2.predict(X_test)\n",
    "model2.score(X_test, y_test)"
   ]
  },
  {
   "cell_type": "markdown",
   "metadata": {},
   "source": [
    "### Classification Report"
   ]
  },
  {
   "cell_type": "code",
   "execution_count": 17,
   "metadata": {},
   "outputs": [
    {
     "name": "stdout",
     "output_type": "stream",
     "text": [
      "              precision    recall  f1-score   support\n",
      "\n",
      " muito baixo       0.84      0.88      0.86       625\n",
      "       baixo       0.80      0.73      0.76       364\n",
      "       médio       0.50      0.20      0.29        15\n",
      "        alto       1.00      0.14      0.25        14\n",
      "  muito alto       0.74      0.77      0.76       654\n",
      "\n",
      "    accuracy                           0.79      1672\n",
      "   macro avg       0.78      0.54      0.58      1672\n",
      "weighted avg       0.79      0.79      0.79      1672\n",
      "\n"
     ]
    }
   ],
   "source": [
    "target_names = ['muito baixo', 'baixo', 'médio', 'alto', 'muito alto']\n",
    "print(classification_report(y_test, y_pred2, target_names=target_names))"
   ]
  },
  {
   "cell_type": "markdown",
   "metadata": {},
   "source": [
    "#### Confusion_matrix "
   ]
  },
  {
   "cell_type": "code",
   "execution_count": 18,
   "metadata": {},
   "outputs": [
    {
     "data": {
      "text/plain": [
       "array([[  0,   0,   0,   0,   0],\n",
       "       [  0, 265,  99,   0,   0],\n",
       "       [  0,  57, 506,  91,   0],\n",
       "       [  0,   0,  74, 549,   0],\n",
       "       [  0,   0,   0,   0,   0]])"
      ]
     },
     "execution_count": 18,
     "metadata": {},
     "output_type": "execute_result"
    }
   ],
   "source": [
    "confusion_matrix(y_test, y_pred2, labels=['muito baixo', 'baixo', 'médio', 'alto', 'muito alto'])"
   ]
  },
  {
   "cell_type": "markdown",
   "metadata": {},
   "source": [
    "## With Stratified Shuffle Split"
   ]
  },
  {
   "cell_type": "code",
   "execution_count": 25,
   "metadata": {},
   "outputs": [],
   "source": [
    "#separação da classe em y\n",
    "X = df.iloc[:, 0:65].values\n",
    "y = df.iloc[:, 66].values"
   ]
  },
  {
   "cell_type": "code",
   "execution_count": 26,
   "metadata": {},
   "outputs": [
    {
     "data": {
      "text/plain": [
       "5"
      ]
     },
     "execution_count": 26,
     "metadata": {},
     "output_type": "execute_result"
    }
   ],
   "source": [
    "sss = StratifiedShuffleSplit(n_splits=5, test_size=0.8, random_state=0) \n",
    "sss.get_n_splits(X, y)"
   ]
  },
  {
   "cell_type": "code",
   "execution_count": 27,
   "metadata": {},
   "outputs": [
    {
     "name": "stdout",
     "output_type": "stream",
     "text": [
      "StratifiedShuffleSplit(n_splits=5, random_state=0, test_size=0.8,\n",
      "            train_size=None)\n"
     ]
    }
   ],
   "source": [
    "print(sss)"
   ]
  },
  {
   "cell_type": "code",
   "execution_count": 31,
   "metadata": {},
   "outputs": [
    {
     "name": "stdout",
     "output_type": "stream",
     "text": [
      "TRAIN: [1360 2966 1983 ... 4539 2483 5552] TEST: [5487 1415 4643 ... 2043 5253 3754]\n",
      "TRAIN: [4108 4625 4236 ... 4732 3014 4635] TEST: [3579 2495 5124 ... 3114 1481  947]\n",
      "TRAIN: [3332 4453 1070 ... 1493 5336 5027] TEST: [5429  732 2080 ... 4424 2234 3716]\n",
      "TRAIN: [3568 4339   70 ... 1914 4181  709] TEST: [1435 5270  763 ... 2138  656 3343]\n",
      "TRAIN: [2191 4632 2264 ... 5114 1069  910] TEST: [5465 3011 4881 ... 4448 5509 1921]\n"
     ]
    }
   ],
   "source": [
    "for train_index, test_index in sss.split(X, y):\n",
    "        print(\"TRAIN:\", train_index, \"TEST:\", test_index)\n",
    "        X_train, X_test = X[train_index], X[test_index]\n",
    "        y_train, y_test = y[train_index], y[test_index]"
   ]
  },
  {
   "cell_type": "code",
   "execution_count": 32,
   "metadata": {},
   "outputs": [
    {
     "data": {
      "text/plain": [
       "0.7674366449876654"
      ]
     },
     "execution_count": 32,
     "metadata": {},
     "output_type": "execute_result"
    }
   ],
   "source": [
    "from sklearn.ensemble import RandomForestClassifier\n",
    "\n",
    "#100 árvores\n",
    "model = RandomForestClassifier(n_estimators=100, \n",
    "                               bootstrap = True,\n",
    "                               max_features = 'sqrt')\n",
    "\n",
    "model.fit(X_train, y_train)\n",
    "y_pred = model.predict(X_test)\n",
    "model.score(X_test, y_test)"
   ]
  },
  {
   "cell_type": "markdown",
   "metadata": {},
   "source": [
    "### Classification Report"
   ]
  },
  {
   "cell_type": "code",
   "execution_count": 33,
   "metadata": {},
   "outputs": [
    {
     "name": "stdout",
     "output_type": "stream",
     "text": [
      "              precision    recall  f1-score   support\n",
      "\n",
      " muito baixo       0.82      0.89      0.85      1654\n",
      "       baixo       0.75      0.68      0.71       950\n",
      "       médio       0.57      0.10      0.17        40\n",
      "        alto       0.00      0.00      0.00        34\n",
      "  muito alto       0.73      0.73      0.73      1781\n",
      "\n",
      "    accuracy                           0.77      4459\n",
      "   macro avg       0.57      0.48      0.49      4459\n",
      "weighted avg       0.76      0.77      0.76      4459\n",
      "\n"
     ]
    }
   ],
   "source": [
    "target_names = ['muito baixo', 'baixo', 'médio', 'alto', 'muito alto']\n",
    "print(classification_report(y_test, y_pred, target_names=target_names))"
   ]
  },
  {
   "cell_type": "code",
   "execution_count": null,
   "metadata": {},
   "outputs": [],
   "source": []
  }
 ],
 "metadata": {
  "kernelspec": {
   "display_name": "Python 3",
   "language": "python",
   "name": "python3"
  },
  "language_info": {
   "codemirror_mode": {
    "name": "ipython",
    "version": 3
   },
   "file_extension": ".py",
   "mimetype": "text/x-python",
   "name": "python",
   "nbconvert_exporter": "python",
   "pygments_lexer": "ipython3",
   "version": "3.7.4"
  }
 },
 "nbformat": 4,
 "nbformat_minor": 2
}
