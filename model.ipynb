{
 "cells": [
  {
   "cell_type": "code",
   "execution_count": 18,
   "metadata": {},
   "outputs": [],
   "source": [
    "import pandas as pd\n",
    "import seaborn as sns\n",
    "import matplotlib.pyplot as plt\n",
    "import seaborn as sns\n",
    "import numpy as np\n",
    "\n",
    "from sklearn.metrics import confusion_matrix\n",
    "from sklearn.metrics import accuracy_score\n",
    "from sklearn.metrics import recall_score\n",
    "from sklearn.metrics import precision_score\n",
    "\n",
    "from sklearn.ensemble import RandomForestClassifier\n",
    "from sklearn.model_selection import train_test_split"
   ]
  },
  {
   "cell_type": "code",
   "execution_count": 2,
   "metadata": {},
   "outputs": [],
   "source": [
    "pd.options.display.max_rows = 6000\n",
    "pd.options.display.max_columns = 80\n",
    "\n",
    "data = pd.read_csv('./brazilian-cities/BRAZIL_CITIES.csv', sep=\";\", decimal=\",\")\n",
    "\n",
    "##note que a df está sem a feature AREA e RURAL_URBAN\n",
    "\n",
    "ft = [\"IBGE_RES_POP\", \"IBGE_RES_POP_BRAS\", \"IBGE_RES_POP_ESTR\", \"IBGE_DU\", \"IBGE_DU_URBAN\", \"IBGE_DU_RURAL\", \"IBGE_POP\", \"IBGE_1\", \"IBGE_1-4\", \"IBGE_5-9\", \"IBGE_10-14\", \"IBGE_15-59\", \"IBGE_60+\", \"IBGE_PLANTED_AREA\", \"IBGE_CROP_PRODUCTION_$\", \"IDHM Ranking 2010\", \"IDHM\", \"IDHM_Renda\", \"IDHM_Longevidade\", \"IDHM_Educacao\", \"LONG\", \"LAT\", \"ALT\", \"PAY_TV\", \"FIXED_PHONES\", \"ESTIMATED_POP\", \"GVA_AGROPEC\", \"GVA_INDUSTRY\", \"GVA_SERVICES\", \"GVA_PUBLIC\", \"TAXES\", \"GDP\", \"POP_GDP\", \"GDP_CAPITA\", \"MUN_EXPENDIT\", \"COMP_TOT\", \"COMP_A\", \"COMP_B\", \"COMP_C\", \"COMP_D\", \"COMP_E\", \"COMP_F\", \"COMP_G\", \"COMP_H\", \"COMP_I\", \"COMP_J\", \"COMP_K\", \"COMP_L\", \"COMP_M\", \"COMP_N\", \"COMP_O\", \"COMP_P\", \"COMP_Q\", \"COMP_R\", \"COMP_S\", \"COMP_T\", \"COMP_U\", \"HOTELS\", \"BEDS\", \"Pr_Agencies\", \"Pu_Agencies\", \"Pr_Bank\", \"Pu_Bank\", \"Pr_Assets\", \"Pu_Assets\", \"Cars\", \"Motorcycles\", \"Wheeled_tractor\", \"UBER\", \"MAC\", \"WAL-MART\", \"POST_OFFICES\"]\n",
    "df = data[ft]"
   ]
  },
  {
   "cell_type": "code",
   "execution_count": 3,
   "metadata": {},
   "outputs": [
    {
     "name": "stderr",
     "output_type": "stream",
     "text": [
      "/home/giovanna/anaconda3/lib/python3.7/site-packages/ipykernel_launcher.py:1: SettingWithCopyWarning: \n",
      "A value is trying to be set on a copy of a slice from a DataFrame.\n",
      "Try using .loc[row_indexer,col_indexer] = value instead\n",
      "\n",
      "See the caveats in the documentation: http://pandas.pydata.org/pandas-docs/stable/user_guide/indexing.html#returning-a-view-versus-a-copy\n",
      "  \"\"\"Entry point for launching an IPython kernel.\n",
      "/home/giovanna/anaconda3/lib/python3.7/site-packages/ipykernel_launcher.py:2: SettingWithCopyWarning: \n",
      "A value is trying to be set on a copy of a slice from a DataFrame.\n",
      "Try using .loc[row_indexer,col_indexer] = value instead\n",
      "\n",
      "See the caveats in the documentation: http://pandas.pydata.org/pandas-docs/stable/user_guide/indexing.html#returning-a-view-versus-a-copy\n",
      "  \n",
      "/home/giovanna/anaconda3/lib/python3.7/site-packages/ipykernel_launcher.py:3: SettingWithCopyWarning: \n",
      "A value is trying to be set on a copy of a slice from a DataFrame.\n",
      "Try using .loc[row_indexer,col_indexer] = value instead\n",
      "\n",
      "See the caveats in the documentation: http://pandas.pydata.org/pandas-docs/stable/user_guide/indexing.html#returning-a-view-versus-a-copy\n",
      "  This is separate from the ipykernel package so we can avoid doing imports until\n",
      "/home/giovanna/anaconda3/lib/python3.7/site-packages/ipykernel_launcher.py:4: SettingWithCopyWarning: \n",
      "A value is trying to be set on a copy of a slice from a DataFrame.\n",
      "Try using .loc[row_indexer,col_indexer] = value instead\n",
      "\n",
      "See the caveats in the documentation: http://pandas.pydata.org/pandas-docs/stable/user_guide/indexing.html#returning-a-view-versus-a-copy\n",
      "  after removing the cwd from sys.path.\n",
      "/home/giovanna/anaconda3/lib/python3.7/site-packages/ipykernel_launcher.py:5: SettingWithCopyWarning: \n",
      "A value is trying to be set on a copy of a slice from a DataFrame.\n",
      "Try using .loc[row_indexer,col_indexer] = value instead\n",
      "\n",
      "See the caveats in the documentation: http://pandas.pydata.org/pandas-docs/stable/user_guide/indexing.html#returning-a-view-versus-a-copy\n",
      "  \"\"\"\n",
      "/home/giovanna/anaconda3/lib/python3.7/site-packages/ipykernel_launcher.py:6: SettingWithCopyWarning: \n",
      "A value is trying to be set on a copy of a slice from a DataFrame.\n",
      "Try using .loc[row_indexer,col_indexer] = value instead\n",
      "\n",
      "See the caveats in the documentation: http://pandas.pydata.org/pandas-docs/stable/user_guide/indexing.html#returning-a-view-versus-a-copy\n",
      "  \n",
      "/home/giovanna/anaconda3/lib/python3.7/site-packages/ipykernel_launcher.py:7: SettingWithCopyWarning: \n",
      "A value is trying to be set on a copy of a slice from a DataFrame.\n",
      "Try using .loc[row_indexer,col_indexer] = value instead\n",
      "\n",
      "See the caveats in the documentation: http://pandas.pydata.org/pandas-docs/stable/user_guide/indexing.html#returning-a-view-versus-a-copy\n",
      "  import sys\n",
      "/home/giovanna/anaconda3/lib/python3.7/site-packages/ipykernel_launcher.py:10: SettingWithCopyWarning: \n",
      "A value is trying to be set on a copy of a slice from a DataFrame.\n",
      "Try using .loc[row_indexer,col_indexer] = value instead\n",
      "\n",
      "See the caveats in the documentation: http://pandas.pydata.org/pandas-docs/stable/user_guide/indexing.html#returning-a-view-versus-a-copy\n",
      "  # Remove the CWD from sys.path while we load stuff.\n",
      "/home/giovanna/anaconda3/lib/python3.7/site-packages/ipykernel_launcher.py:11: SettingWithCopyWarning: \n",
      "A value is trying to be set on a copy of a slice from a DataFrame.\n",
      "Try using .loc[row_indexer,col_indexer] = value instead\n",
      "\n",
      "See the caveats in the documentation: http://pandas.pydata.org/pandas-docs/stable/user_guide/indexing.html#returning-a-view-versus-a-copy\n",
      "  # This is added back by InteractiveShellApp.init_path()\n",
      "/home/giovanna/anaconda3/lib/python3.7/site-packages/ipykernel_launcher.py:12: SettingWithCopyWarning: \n",
      "A value is trying to be set on a copy of a slice from a DataFrame.\n",
      "Try using .loc[row_indexer,col_indexer] = value instead\n",
      "\n",
      "See the caveats in the documentation: http://pandas.pydata.org/pandas-docs/stable/user_guide/indexing.html#returning-a-view-versus-a-copy\n",
      "  if sys.path[0] == '':\n",
      "/home/giovanna/anaconda3/lib/python3.7/site-packages/ipykernel_launcher.py:13: SettingWithCopyWarning: \n",
      "A value is trying to be set on a copy of a slice from a DataFrame.\n",
      "Try using .loc[row_indexer,col_indexer] = value instead\n",
      "\n",
      "See the caveats in the documentation: http://pandas.pydata.org/pandas-docs/stable/user_guide/indexing.html#returning-a-view-versus-a-copy\n",
      "  del sys.path[0]\n",
      "/home/giovanna/anaconda3/lib/python3.7/site-packages/ipykernel_launcher.py:14: SettingWithCopyWarning: \n",
      "A value is trying to be set on a copy of a slice from a DataFrame.\n",
      "Try using .loc[row_indexer,col_indexer] = value instead\n",
      "\n",
      "See the caveats in the documentation: http://pandas.pydata.org/pandas-docs/stable/user_guide/indexing.html#returning-a-view-versus-a-copy\n",
      "  \n",
      "/home/giovanna/anaconda3/lib/python3.7/site-packages/ipykernel_launcher.py:15: SettingWithCopyWarning: \n",
      "A value is trying to be set on a copy of a slice from a DataFrame.\n",
      "Try using .loc[row_indexer,col_indexer] = value instead\n",
      "\n",
      "See the caveats in the documentation: http://pandas.pydata.org/pandas-docs/stable/user_guide/indexing.html#returning-a-view-versus-a-copy\n",
      "  from ipykernel import kernelapp as app\n",
      "/home/giovanna/anaconda3/lib/python3.7/site-packages/ipykernel_launcher.py:16: SettingWithCopyWarning: \n",
      "A value is trying to be set on a copy of a slice from a DataFrame.\n",
      "Try using .loc[row_indexer,col_indexer] = value instead\n",
      "\n",
      "See the caveats in the documentation: http://pandas.pydata.org/pandas-docs/stable/user_guide/indexing.html#returning-a-view-versus-a-copy\n",
      "  app.launch_new_instance()\n"
     ]
    }
   ],
   "source": [
    "df['IDHM'] = df['IDHM'].astype(float)\n",
    "df['IDHM_Renda'] = df['IDHM_Renda'].astype(float)\n",
    "df['IDHM_Longevidade'] = df['IDHM_Longevidade'].astype(float)\n",
    "df['IDHM_Educacao'] = df['IDHM_Educacao'].astype(float)\n",
    "df['LONG'] = df['LONG'].astype(float)\n",
    "df['LAT'] = df['LAT'].astype(float)\n",
    "df['ALT'] = df['ALT'].astype(float)\n",
    "#df['AREA'] = df['AREA'].astype(float)\n",
    "#df['RURAL_URBAN'] = df['RURAL_URBAN'].astype(float)\n",
    "df['GVA_AGROPEC'] = df['GVA_AGROPEC'].astype(float)\n",
    "df['GVA_INDUSTRY'] = df['GVA_INDUSTRY'].astype(float)\n",
    "df['GVA_SERVICES'] = df['GVA_SERVICES'].astype(float)\n",
    "df['GVA_PUBLIC'] = df['GVA_PUBLIC'].astype(float)\n",
    "df['TAXES'] = df['TAXES'].astype(float)\n",
    "df['GDP'] = df['GDP'].astype(float)\n",
    "df['GDP_CAPITA'] = df['GDP_CAPITA'].astype(float)\n"
   ]
  },
  {
   "cell_type": "code",
   "execution_count": 4,
   "metadata": {},
   "outputs": [
    {
     "name": "stderr",
     "output_type": "stream",
     "text": [
      "/home/giovanna/anaconda3/lib/python3.7/site-packages/ipykernel_launcher.py:13: SettingWithCopyWarning: \n",
      "A value is trying to be set on a copy of a slice from a DataFrame.\n",
      "Try using .loc[row_indexer,col_indexer] = value instead\n",
      "\n",
      "See the caveats in the documentation: http://pandas.pydata.org/pandas-docs/stable/user_guide/indexing.html#returning-a-view-versus-a-copy\n",
      "  del sys.path[0]\n"
     ]
    }
   ],
   "source": [
    "def get_rotulo(value):\n",
    "    if value >= 0.8:\n",
    "        return \"muito_alto\"\n",
    "    elif 0.69 < value <= 0.79:\n",
    "        return \"alto\"\n",
    "    elif 0.59 < value <= 0.69:\n",
    "        return \"médio\"\n",
    "    elif 0.49 < value <= 0.59:\n",
    "        return \"baixo\"\n",
    "    else:\n",
    "        return \"muito_baixo\"\n",
    "\n",
    "df[\"rótulo\"] = df['IDHM'].apply(get_rotulo)"
   ]
  },
  {
   "cell_type": "code",
   "execution_count": 5,
   "metadata": {},
   "outputs": [
    {
     "name": "stdout",
     "output_type": "stream",
     "text": [
      "73\n"
     ]
    }
   ],
   "source": [
    "print(len(df.columns))"
   ]
  },
  {
   "cell_type": "code",
   "execution_count": 6,
   "metadata": {},
   "outputs": [
    {
     "name": "stdout",
     "output_type": "stream",
     "text": [
      "IBGE_RES_POP              float64\n",
      "IBGE_RES_POP_BRAS         float64\n",
      "IBGE_RES_POP_ESTR         float64\n",
      "IBGE_DU                   float64\n",
      "IBGE_DU_URBAN             float64\n",
      "IBGE_DU_RURAL             float64\n",
      "IBGE_POP                  float64\n",
      "IBGE_1                    float64\n",
      "IBGE_1-4                  float64\n",
      "IBGE_5-9                  float64\n",
      "IBGE_10-14                float64\n",
      "IBGE_15-59                float64\n",
      "IBGE_60+                  float64\n",
      "IBGE_PLANTED_AREA         float64\n",
      "IBGE_CROP_PRODUCTION_$    float64\n",
      "IDHM Ranking 2010         float64\n",
      "IDHM                      float64\n",
      "IDHM_Renda                float64\n",
      "IDHM_Longevidade          float64\n",
      "IDHM_Educacao             float64\n",
      "LONG                      float64\n",
      "LAT                       float64\n",
      "ALT                       float64\n",
      "PAY_TV                    float64\n",
      "FIXED_PHONES              float64\n",
      "ESTIMATED_POP             float64\n",
      "GVA_AGROPEC               float64\n",
      "GVA_INDUSTRY              float64\n",
      "GVA_SERVICES              float64\n",
      "GVA_PUBLIC                float64\n",
      "TAXES                     float64\n",
      "GDP                       float64\n",
      "POP_GDP                   float64\n",
      "GDP_CAPITA                float64\n",
      "MUN_EXPENDIT              float64\n",
      "COMP_TOT                  float64\n",
      "COMP_A                    float64\n",
      "COMP_B                    float64\n",
      "COMP_C                    float64\n",
      "COMP_D                    float64\n",
      "COMP_E                    float64\n",
      "COMP_F                    float64\n",
      "COMP_G                    float64\n",
      "COMP_H                    float64\n",
      "COMP_I                    float64\n",
      "COMP_J                    float64\n",
      "COMP_K                    float64\n",
      "COMP_L                    float64\n",
      "COMP_M                    float64\n",
      "COMP_N                    float64\n",
      "COMP_O                    float64\n",
      "COMP_P                    float64\n",
      "COMP_Q                    float64\n",
      "COMP_R                    float64\n",
      "COMP_S                    float64\n",
      "COMP_T                    float64\n",
      "COMP_U                    float64\n",
      "HOTELS                    float64\n",
      "BEDS                      float64\n",
      "Pr_Agencies               float64\n",
      "Pu_Agencies               float64\n",
      "Pr_Bank                   float64\n",
      "Pu_Bank                   float64\n",
      "Pr_Assets                 float64\n",
      "Pu_Assets                 float64\n",
      "Cars                      float64\n",
      "Motorcycles               float64\n",
      "Wheeled_tractor           float64\n",
      "UBER                      float64\n",
      "MAC                       float64\n",
      "WAL-MART                  float64\n",
      "POST_OFFICES              float64\n",
      "rótulo                     object\n",
      "dtype: object\n"
     ]
    }
   ],
   "source": [
    "print(df.dtypes)"
   ]
  },
  {
   "cell_type": "code",
   "execution_count": 11,
   "metadata": {},
   "outputs": [],
   "source": [
    "df=  df.fillna(0)"
   ]
  },
  {
   "cell_type": "code",
   "execution_count": 12,
   "metadata": {},
   "outputs": [],
   "source": [
    "#separação da classe em y\n",
    "X = df.iloc[:, 0:71].values\n",
    "y = df.iloc[:, 72].values"
   ]
  },
  {
   "cell_type": "code",
   "execution_count": 13,
   "metadata": {},
   "outputs": [],
   "source": [
    "from sklearn.model_selection import train_test_split\n",
    "\n",
    "X_train, X_test, y_train, y_test = train_test_split(X, y, test_size=0.2, random_state=0)"
   ]
  },
  {
   "cell_type": "code",
   "execution_count": 16,
   "metadata": {},
   "outputs": [],
   "source": [
    "from sklearn.ensemble import RandomForestClassifier\n",
    "\n",
    "# Create the model with 100 trees\n",
    "model = RandomForestClassifier(n_estimators=100, \n",
    "                               bootstrap = True,\n",
    "                               max_features = 'sqrt')\n",
    "# Fit on training data\n",
    "model.fit(X_train, y_train)\n",
    "y_pred = model.predict(X_test)"
   ]
  },
  {
   "cell_type": "code",
   "execution_count": 20,
   "metadata": {},
   "outputs": [],
   "source": [
    "def metrics (y_test, y_pred):\n",
    "  ac = accuracy_score(y_test, y_pred)\n",
    "  rec = recall_score(y_test,y_pred, average= 'weighted')\n",
    "  prec = precision_score(y_test,y_pred, average='weighted')\n",
    "  return (ac, rec, prec)"
   ]
  },
  {
   "cell_type": "code",
   "execution_count": 21,
   "metadata": {},
   "outputs": [
    {
     "name": "stdout",
     "output_type": "stream",
     "text": [
      "acuracia = 0.9982062780269059 , recall = 0.9982062780269059 , precisao = 0.998208428772677 \n"
     ]
    }
   ],
   "source": [
    "acuracia, recall, precisao= metrics(y_test,y_pred)\n",
    "stringSaida= \"acuracia = {ac} , recall = {rec} , precisao = {prec} \".format (ac = acuracia, rec = recall, prec = precisao)\n",
    "print (stringSaida)"
   ]
  },
  {
   "cell_type": "code",
   "execution_count": null,
   "metadata": {},
   "outputs": [],
   "source": []
  }
 ],
 "metadata": {
  "kernelspec": {
   "display_name": "Python 3",
   "language": "python",
   "name": "python3"
  },
  "language_info": {
   "codemirror_mode": {
    "name": "ipython",
    "version": 3
   },
   "file_extension": ".py",
   "mimetype": "text/x-python",
   "name": "python",
   "nbconvert_exporter": "python",
   "pygments_lexer": "ipython3",
   "version": "3.7.4"
  }
 },
 "nbformat": 4,
 "nbformat_minor": 2
}
