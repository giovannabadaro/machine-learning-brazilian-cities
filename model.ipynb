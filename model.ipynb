{
 "cells": [
  {
   "cell_type": "code",
   "execution_count": 23,
   "metadata": {},
   "outputs": [],
   "source": [
    "import pandas as pd\n",
    "import seaborn as sns\n",
    "import matplotlib.pyplot as plt\n",
    "import seaborn as sns\n",
    "import numpy as np\n",
    "import warnings\n",
    "\n",
    "from sklearn.metrics import confusion_matrix\n",
    "from sklearn.metrics import accuracy_score\n",
    "from sklearn.metrics import recall_score\n",
    "from sklearn.metrics import precision_score\n",
    "\n",
    "from sklearn.ensemble import RandomForestClassifier\n",
    "from sklearn.model_selection import train_test_split\n",
    "\n",
    "\n",
    "# Define random state\n",
    "random_state = 2018\n",
    "np.random.seed(random_state)\n",
    "warnings.filterwarnings('ignore')"
   ]
  },
  {
   "cell_type": "code",
   "execution_count": 79,
   "metadata": {},
   "outputs": [],
   "source": [
    "pd.options.display.max_rows = 6000\n",
    "pd.options.display.max_columns = 80\n",
    "\n",
    "data = pd.read_csv('./brazilian-cities/BRAZIL_CITIES.csv', sep=\";\", decimal=\",\")\n",
    "\n",
    "##note que a df está sem a feature AREA e RURAL_URBAN\n",
    "\n",
    "ft1 = [\"IBGE_RES_POP\", \"IBGE_RES_POP_BRAS\", \"IBGE_RES_POP_ESTR\", \"IBGE_DU\", \"IBGE_DU_URBAN\", \"IBGE_DU_RURAL\", \"IBGE_POP\", \"IBGE_1\", \"IBGE_1-4\", \"IBGE_5-9\", \"IBGE_10-14\", \"IBGE_15-59\", \"IBGE_60+\", \"IBGE_PLANTED_AREA\", \"IBGE_CROP_PRODUCTION_$\", \"IDHM Ranking 2010\", \"IDHM\", \"IDHM_Renda\", \"IDHM_Longevidade\", \"IDHM_Educacao\", \"LONG\", \"LAT\", \"ALT\", \"PAY_TV\", \"FIXED_PHONES\", \"ESTIMATED_POP\", \"GVA_AGROPEC\", \"GVA_INDUSTRY\", \"GVA_SERVICES\", \"GVA_PUBLIC\", \"TAXES\", \"GDP\", \"POP_GDP\", \"GDP_CAPITA\", \"MUN_EXPENDIT\", \"COMP_TOT\", \"COMP_A\", \"COMP_B\", \"COMP_C\", \"COMP_D\", \"COMP_E\", \"COMP_F\", \"COMP_G\", \"COMP_H\", \"COMP_I\", \"COMP_J\", \"COMP_K\", \"COMP_L\", \"COMP_M\", \"COMP_N\", \"COMP_O\", \"COMP_P\", \"COMP_Q\", \"COMP_R\", \"COMP_S\", \"COMP_T\", \"COMP_U\", \"HOTELS\", \"BEDS\", \"Pr_Agencies\", \"Pu_Agencies\", \"Pr_Bank\", \"Pu_Bank\", \"Pr_Assets\", \"Pu_Assets\", \"Cars\", \"Motorcycles\", \"Wheeled_tractor\", \"UBER\", \"MAC\", \"WAL-MART\", \"POST_OFFICES\"]\n",
    "df1 = data[ft1]\n",
    "\n",
    "ft = [\"IBGE_RES_POP\", \"IBGE_RES_POP_BRAS\", \"IBGE_RES_POP_ESTR\", \"IBGE_DU\", \"IBGE_DU_URBAN\", \"IBGE_DU_RURAL\", \"IBGE_POP\", \"IBGE_1\", \"IBGE_1-4\", \"IBGE_5-9\", \"IBGE_10-14\", \"IBGE_15-59\", \"IBGE_60+\", \"IBGE_PLANTED_AREA\", \"IBGE_CROP_PRODUCTION_$\",\"LONG\", \"LAT\" ,\"ALT\", \"PAY_TV\", \"FIXED_PHONES\", \"ESTIMATED_POP\", \"GVA_AGROPEC\", \"GVA_INDUSTRY\", \"GVA_SERVICES\", \"GVA_PUBLIC\", \"TAXES\", \"GDP\", \"POP_GDP\", \"MUN_EXPENDIT\", \"COMP_TOT\", \"COMP_A\", \"COMP_B\", \"COMP_C\", \"COMP_D\", \"COMP_E\", \"COMP_F\", \"COMP_G\", \"COMP_H\", \"COMP_I\", \"COMP_J\", \"COMP_K\", \"COMP_L\", \"COMP_M\", \"COMP_N\", \"COMP_O\", \"COMP_P\", \"COMP_Q\", \"COMP_R\", \"COMP_S\", \"COMP_T\", \"COMP_U\", \"HOTELS\", \"BEDS\", \"Pr_Agencies\", \"Pu_Agencies\", \"Pr_Bank\", \"Pu_Bank\", \"Pr_Assets\", \"Pu_Assets\", \"Cars\", \"Motorcycles\", \"Wheeled_tractor\", \"UBER\", \"MAC\", \"WAL-MART\", \"POST_OFFICES\"]\n",
    "df = data[ft]"
   ]
  },
  {
   "cell_type": "code",
   "execution_count": 80,
   "metadata": {},
   "outputs": [],
   "source": [
    "df['LONG'] = df['LONG'].astype(float)\n",
    "df['LAT'] = df['LAT'].astype(float)\n",
    "df['ALT'] = df['ALT'].astype(float)\n",
    "#df['AREA'] = df['AREA'].astype(float)\n",
    "#df['RURAL_URBAN'] = df['RURAL_URBAN'].astype(float)\n",
    "df['GVA_AGROPEC'] = df['GVA_AGROPEC'].astype(float)\n",
    "df['GVA_INDUSTRY'] = df['GVA_INDUSTRY'].astype(float)\n",
    "df['GVA_SERVICES'] = df['GVA_SERVICES'].astype(float)\n",
    "df['GVA_PUBLIC'] = df['GVA_PUBLIC'].astype(float)\n",
    "df['TAXES'] = df['TAXES'].astype(float)\n",
    "df['GDP'] = df['GDP'].astype(float)\n",
    "#df['GDP_CAPITA'] = df['GDP_CAPITA'].astype(float)\n"
   ]
  },
  {
   "cell_type": "code",
   "execution_count": 81,
   "metadata": {},
   "outputs": [],
   "source": [
    "df1['IDHM'] = df1['IDHM'].astype(float)\n",
    "\n",
    "def get_rotulo(value):\n",
    "    if value >= 0.8:\n",
    "        return \"muito_alto\"\n",
    "    elif 0.69 < value <= 0.79:\n",
    "        return \"alto\"\n",
    "    elif 0.59 < value <= 0.69:\n",
    "        return \"médio\"\n",
    "    elif 0.49 < value <= 0.59:\n",
    "        return \"baixo\"\n",
    "    else:\n",
    "        return \"muito_baixo\"\n",
    "\n",
    "df[\"rótulo\"] = df1['IDHM'].apply(get_rotulo)"
   ]
  },
  {
   "cell_type": "code",
   "execution_count": 82,
   "metadata": {},
   "outputs": [
    {
     "name": "stdout",
     "output_type": "stream",
     "text": [
      "67\n"
     ]
    }
   ],
   "source": [
    "print(len(df.columns))"
   ]
  },
  {
   "cell_type": "code",
   "execution_count": 84,
   "metadata": {},
   "outputs": [
    {
     "name": "stdout",
     "output_type": "stream",
     "text": [
      "IBGE_RES_POP              float64\n",
      "IBGE_RES_POP_BRAS         float64\n",
      "IBGE_RES_POP_ESTR         float64\n",
      "IBGE_DU                   float64\n",
      "IBGE_DU_URBAN             float64\n",
      "IBGE_DU_RURAL             float64\n",
      "IBGE_POP                  float64\n",
      "IBGE_1                    float64\n",
      "IBGE_1-4                  float64\n",
      "IBGE_5-9                  float64\n",
      "IBGE_10-14                float64\n",
      "IBGE_15-59                float64\n",
      "IBGE_60+                  float64\n",
      "IBGE_PLANTED_AREA         float64\n",
      "IBGE_CROP_PRODUCTION_$    float64\n",
      "LONG                      float64\n",
      "LAT                       float64\n",
      "ALT                       float64\n",
      "PAY_TV                    float64\n",
      "FIXED_PHONES              float64\n",
      "ESTIMATED_POP             float64\n",
      "GVA_AGROPEC               float64\n",
      "GVA_INDUSTRY              float64\n",
      "GVA_SERVICES              float64\n",
      "GVA_PUBLIC                float64\n",
      "TAXES                     float64\n",
      "GDP                       float64\n",
      "POP_GDP                   float64\n",
      "MUN_EXPENDIT              float64\n",
      "COMP_TOT                  float64\n",
      "COMP_A                    float64\n",
      "COMP_B                    float64\n",
      "COMP_C                    float64\n",
      "COMP_D                    float64\n",
      "COMP_E                    float64\n",
      "COMP_F                    float64\n",
      "COMP_G                    float64\n",
      "COMP_H                    float64\n",
      "COMP_I                    float64\n",
      "COMP_J                    float64\n",
      "COMP_K                    float64\n",
      "COMP_L                    float64\n",
      "COMP_M                    float64\n",
      "COMP_N                    float64\n",
      "COMP_O                    float64\n",
      "COMP_P                    float64\n",
      "COMP_Q                    float64\n",
      "COMP_R                    float64\n",
      "COMP_S                    float64\n",
      "COMP_T                    float64\n",
      "COMP_U                    float64\n",
      "HOTELS                    float64\n",
      "BEDS                      float64\n",
      "Pr_Agencies               float64\n",
      "Pu_Agencies               float64\n",
      "Pr_Bank                   float64\n",
      "Pu_Bank                   float64\n",
      "Pr_Assets                 float64\n",
      "Pu_Assets                 float64\n",
      "Cars                      float64\n",
      "Motorcycles               float64\n",
      "Wheeled_tractor           float64\n",
      "UBER                      float64\n",
      "MAC                       float64\n",
      "WAL-MART                  float64\n",
      "POST_OFFICES              float64\n",
      "rótulo                     object\n",
      "dtype: object\n"
     ]
    }
   ],
   "source": [
    "print(df.dtypes)"
   ]
  },
  {
   "cell_type": "code",
   "execution_count": 85,
   "metadata": {},
   "outputs": [],
   "source": [
    "df=  df.fillna(0)"
   ]
  },
  {
   "cell_type": "code",
   "execution_count": 86,
   "metadata": {},
   "outputs": [],
   "source": [
    "#separação da classe em y\n",
    "X = df.iloc[:, 0:65].values\n",
    "y = df.iloc[:, 66].values"
   ]
  },
  {
   "cell_type": "code",
   "execution_count": 87,
   "metadata": {},
   "outputs": [],
   "source": [
    "from sklearn.model_selection import train_test_split\n",
    "\n",
    "X_train, X_test, y_train, y_test = train_test_split(X, y, test_size=0.3, random_state=0)"
   ]
  },
  {
   "cell_type": "code",
   "execution_count": 88,
   "metadata": {},
   "outputs": [
    {
     "data": {
      "text/plain": [
       "0.7930622009569378"
      ]
     },
     "execution_count": 88,
     "metadata": {},
     "output_type": "execute_result"
    }
   ],
   "source": [
    "from sklearn.ensemble import RandomForestClassifier\n",
    "\n",
    "#100 árvores\n",
    "model = RandomForestClassifier(n_estimators=100, \n",
    "                               bootstrap = True,\n",
    "                               max_features = 'sqrt')\n",
    "\n",
    "model.fit(X_train, y_train)\n",
    "y_pred = model.predict(X_test)\n",
    "model.score(X_test, y_test)"
   ]
  },
  {
   "cell_type": "code",
   "execution_count": 89,
   "metadata": {
    "scrolled": true
   },
   "outputs": [
    {
     "name": "stdout",
     "output_type": "stream",
     "text": [
      "Feature ranking:\n",
      "1. feature 16 (0.087564)\n",
      "2. feature 15 (0.070678)\n",
      "3. feature 19 (0.048380)\n",
      "4. feature 5 (0.047139)\n",
      "5. feature 37 (0.045266)\n",
      "6. feature 59 (0.044444)\n",
      "7. feature 32 (0.028916)\n",
      "8. feature 1 (0.023467)\n",
      "9. feature 42 (0.023408)\n",
      "10. feature 0 (0.022062)\n",
      "11. feature 20 (0.021899)\n",
      "12. feature 38 (0.021866)\n",
      "13. feature 29 (0.020453)\n",
      "14. feature 27 (0.020330)\n",
      "15. feature 13 (0.019646)\n",
      "16. feature 47 (0.019613)\n",
      "17. feature 17 (0.019564)\n",
      "18. feature 3 (0.018637)\n",
      "19. feature 60 (0.016273)\n",
      "20. feature 14 (0.015675)\n",
      "21. feature 25 (0.015241)\n",
      "22. feature 18 (0.015053)\n",
      "23. feature 22 (0.014137)\n",
      "24. feature 21 (0.014035)\n",
      "25. feature 24 (0.013911)\n",
      "26. feature 43 (0.013474)\n",
      "27. feature 8 (0.013341)\n",
      "28. feature 23 (0.013219)\n",
      "29. feature 36 (0.013120)\n",
      "30. feature 10 (0.012718)\n",
      "31. feature 40 (0.012051)\n",
      "32. feature 9 (0.012009)\n",
      "33. feature 12 (0.011740)\n",
      "34. feature 30 (0.011290)\n",
      "35. feature 41 (0.010944)\n",
      "36. feature 11 (0.010765)\n",
      "37. feature 26 (0.010345)\n",
      "38. feature 35 (0.010331)\n",
      "39. feature 4 (0.010241)\n",
      "40. feature 7 (0.010013)\n",
      "41. feature 46 (0.009991)\n",
      "42. feature 6 (0.009389)\n",
      "43. feature 48 (0.008939)\n",
      "44. feature 28 (0.008737)\n",
      "45. feature 39 (0.008588)\n",
      "46. feature 58 (0.007752)\n",
      "47. feature 45 (0.007616)\n",
      "48. feature 61 (0.007041)\n",
      "49. feature 57 (0.006446)\n",
      "50. feature 2 (0.005897)\n",
      "51. feature 53 (0.005624)\n",
      "52. feature 55 (0.005532)\n",
      "53. feature 44 (0.005023)\n",
      "54. feature 31 (0.004766)\n",
      "55. feature 54 (0.003464)\n",
      "56. feature 34 (0.003159)\n",
      "57. feature 52 (0.002803)\n",
      "58. feature 56 (0.002256)\n",
      "59. feature 51 (0.001778)\n",
      "60. feature 33 (0.001166)\n",
      "61. feature 63 (0.000516)\n",
      "62. feature 64 (0.000137)\n",
      "63. feature 62 (0.000093)\n",
      "64. feature 50 (0.000029)\n",
      "65. feature 49 (0.000000)\n"
     ]
    },
    {
     "data": {
      "image/png": "[encoded data removed]",
      "text/plain": [
       "<Figure size 432x288 with 1 Axes>"
      ]
     },
     "metadata": {
      "needs_background": "light"
     },
     "output_type": "display_data"
    }
   ],
   "source": [
    "importances = model.feature_importances_\n",
    "std = np.std([tree.feature_importances_ for tree in model.estimators_],\n",
    "             axis=0)\n",
    "indices = np.argsort(importances)[::-1]\n",
    "\n",
    "# Print the feature ranking\n",
    "print(\"Feature ranking:\")\n",
    "\n",
    "for f in range(X_train.shape[1]):\n",
    "    print(\"%d. feature %d (%f)\" % (f + 1, indices[f], importances[indices[f]]))\n",
    "\n",
    "# Plot the feature importances of the forest\n",
    "plt.figure()\n",
    "plt.title(\"Feature importances\")\n",
    "plt.bar(range(X_train.shape[1]), importances[indices],\n",
    "       color=\"r\", yerr=std[indices], align=\"center\")\n",
    "plt.xticks(range(X_train.shape[1]), indices)\n",
    "plt.xlim([-1, X_train.shape[1]])\n",
    "plt.show()"
   ]
  },
  {
   "cell_type": "code",
   "execution_count": 42,
   "metadata": {},
   "outputs": [
    {
     "data": {
      "image/png": "[encoded data removed]",
      "text/plain": [
       "<Figure size 864x1440 with 1 Axes>"
      ]
     },
     "metadata": {
      "needs_background": "light"
     },
     "output_type": "display_data"
    }
   ],
   "source": [
    "features = [\"IBGE_RES_POP\", \"IBGE_RES_POP_BRAS\", \"IBGE_RES_POP_ESTR\", \"IBGE_DU\", \"IBGE_DU_URBAN\", \"IBGE_DU_RURAL\", \"IBGE_POP\", \"IBGE_1\", \"IBGE_1-4\", \"IBGE_5-9\", \"IBGE_10-14\", \"IBGE_15-59\", \"IBGE_60+\", \"IBGE_PLANTED_AREA\", \"IBGE_CROP_PRODUCTION_$\",\"LONG\", \"LAT\", \"ALT\", \"PAY_TV\", \"FIXED_PHONES\", \"ESTIMATED_POP\", \"GVA_AGROPEC\", \"GVA_INDUSTRY\", \"GVA_SERVICES\", \"GVA_PUBLIC\", \"TAXES\", \"GDP\", \"POP_GDP\", \"GDP_CAPITA\", \"MUN_EXPENDIT\", \"COMP_TOT\", \"COMP_A\", \"COMP_B\", \"COMP_C\", \"COMP_D\", \"COMP_E\", \"COMP_F\", \"COMP_G\", \"COMP_H\", \"COMP_I\", \"COMP_J\", \"COMP_K\", \"COMP_L\", \"COMP_M\", \"COMP_N\", \"COMP_O\", \"COMP_P\", \"COMP_Q\", \"COMP_R\", \"COMP_S\", \"COMP_T\", \"COMP_U\", \"HOTELS\", \"BEDS\", \"Pr_Agencies\", \"Pu_Agencies\", \"Pr_Bank\", \"Pu_Bank\", \"Pr_Assets\", \"Pu_Assets\", \"Cars\", \"Motorcycles\", \"Wheeled_tractor\", \"UBER\", \"MAC\", \"WAL-MART\", \"POST_OFFICES\"]\n",
    "importances = model.feature_importances_\n",
    "indices = np.argsort(importances)\n",
    "\n",
    "plt.figure(figsize=(12, 20))\n",
    "plt.title('Importância de cada feature')\n",
    "plt.barh(range(len(indices)), importances[indices], color='b', align='center')\n",
    "plt.yticks(range(len(indices)), [features[i] for i in indices])\n",
    "plt.show()\n"
   ]
  },
  {
   "cell_type": "code",
   "execution_count": 90,
   "metadata": {},
   "outputs": [],
   "source": [
    "def metrics (y_test, y_pred):\n",
    "  ac = accuracy_score(y_test, y_pred)\n",
    "  rec = recall_score(y_test,y_pred, average= 'weighted')\n",
    "  prec = precision_score(y_test,y_pred, average='weighted')\n",
    "  return (ac, rec, prec)"
   ]
  },
  {
   "cell_type": "code",
   "execution_count": 91,
   "metadata": {},
   "outputs": [
    {
     "name": "stdout",
     "output_type": "stream",
     "text": [
      "acuracia = 0.7930622009569378 , recall = 0.7930622009569378 , precisao = 0.7928911000222467 \n"
     ]
    }
   ],
   "source": [
    "acuracia, recall, precisao= metrics(y_test,y_pred)\n",
    "stringSaida= \"acuracia = {ac} , recall = {rec} , precisao = {prec} \".format (ac = acuracia, rec = recall, prec = precisao)\n",
    "print (stringSaida)"
   ]
  },
  {
   "cell_type": "code",
   "execution_count": 92,
   "metadata": {},
   "outputs": [],
   "source": [
    "class Create_ensemble(object):\n",
    "    def __init__(self, n_splits, base_models):\n",
    "        self.n_splits = n_splits\n",
    "                self.base_models = base_models\n",
    "\n",
    "    def predict(self, X, y, T):\n",
    "        X = np.array(X)\n",
    "        y = np.array(y)\n",
    "        T = np.array(T)\n",
    "\n",
    "        folds = list(StratifiedKFold(n_splits=self.n_splits, shuffle=True, \n",
    "                                     random_state = random_state).split(X, y))\n",
    "\n",
    "        train_pred = np.zeros((X.shape[0], len(self.base_models)))\n",
    "        test_pred = np.zeros((T.shape[0], len(self.base_models)* self.n_splits))\n",
    "        f1_scores = np.zeros((len(self.base_models), self.n_splits))\n",
    "        recall_scores = np.zeros((len(self.base_models), self.n_splits))\n",
    "        \n",
    "        test_col = 0\n",
    "        for i, clf in enumerate(self.base_models):\n",
    "            \n",
    "            for j, (train_idx, valid_idx) in enumerate(folds):\n",
    "                \n",
    "                X_train = X[train_idx]\n",
    "                Y_train = y[train_idx]\n",
    "                X_valid = X[valid_idx]\n",
    "                Y_valid = y[valid_idx]\n",
    "                \n",
    "                clf.fit(X_train, Y_train)\n",
    "                \n",
    "                valid_pred = clf.predict(X_valid)\n",
    "                recall  = recall_score(Y_valid, valid_pred, average='macro')\n",
    "                f1 = f1_score(Y_valid, valid_pred, average='macro')\n",
    "                \n",
    "                recall_scores[i][j] = recall\n",
    "                f1_scores[i][j] = f1\n",
    "                \n",
    "                train_pred[valid_idx, i] = valid_pred\n",
    "                test_pred[:, test_col] = clf.predict(T)\n",
    "                test_col += 1\n",
    "                \n",
    "                print( \"Model- {} and CV- {} recall: {}, f1_score: {}\".format(i, j, recall, f1))\n",
    "            \n",
    "        return train_pred, test_pred, recall_scores, f1_scores\n"
   ]
  },
  {
   "cell_type": "code",
   "execution_count": 94,
   "metadata": {},
   "outputs": [
    {
     "name": "stdout",
     "output_type": "stream",
     "text": [
      "Fitting 5 folds for each of 108 candidates, totalling 540 fits\n"
     ]
    },
    {
     "name": "stderr",
     "output_type": "stream",
     "text": [
      "[Parallel(n_jobs=-1)]: Using backend LokyBackend with 4 concurrent workers.\n",
      "[Parallel(n_jobs=-1)]: Done  17 tasks      | elapsed:   34.1s\n",
      "[Parallel(n_jobs=-1)]: Done  90 tasks      | elapsed:  2.9min\n",
      "[Parallel(n_jobs=-1)]: Done 213 tasks      | elapsed:  7.2min\n",
      "[Parallel(n_jobs=-1)]: Done 384 tasks      | elapsed: 13.8min\n",
      "[Parallel(n_jobs=-1)]: Done 540 out of 540 | elapsed: 21.6min finished\n"
     ]
    },
    {
     "data": {
      "text/plain": [
       "GridSearchCV(cv=StratifiedKFold(n_splits=5, random_state=2018, shuffle=True),\n",
       "             error_score='raise-deprecating',\n",
       "             estimator=RandomForestClassifier(bootstrap=True, class_weight=None,\n",
       "                                              criterion='gini', max_depth=None,\n",
       "                                              max_features='auto',\n",
       "                                              max_leaf_nodes=None,\n",
       "                                              min_impurity_decrease=0.0,\n",
       "                                              min_impurity_split=None,\n",
       "                                              min_samples_leaf=1,\n",
       "                                              min_samples_split=2,\n",
       "                                              min_weight_fraction_leaf=0.0,\n",
       "                                              n_estimators='warn', n_jobs=None,\n",
       "                                              oob_score=False,\n",
       "                                              random_state=2018, verbose=0,\n",
       "                                              warm_start=False),\n",
       "             iid='warn', n_jobs=-1,\n",
       "             param_grid={'max_depth': [6, 8, 10, 20],\n",
       "                         'min_samples_leaf': [4, 8, 12],\n",
       "                         'min_samples_split': [5, 10, 15],\n",
       "                         'n_estimators': [300, 400, 500]},\n",
       "             pre_dispatch='2*n_jobs', refit=True, return_train_score=False,\n",
       "             scoring=None, verbose=4)"
      ]
     },
     "execution_count": 94,
     "metadata": {},
     "output_type": "execute_result"
    }
   ],
   "source": [
    "from sklearn.ensemble import RandomForestClassifier\n",
    "from sklearn.model_selection import GridSearchCV\n",
    "from sklearn.metrics import make_scorer\n",
    "from sklearn.model_selection import StratifiedKFold\n",
    "\n",
    "cv = StratifiedKFold(n_splits = 5, shuffle=True, random_state = random_state)\n",
    "\n",
    "rdf = RandomForestClassifier(random_state = random_state) \n",
    "scoring = {'Recall': make_scorer(recall_score),\n",
    "           'f1_score': make_scorer(f1_score)\n",
    "          }\n",
    "\n",
    "params = {'max_depth': [6, 8, 10, 20], \n",
    "              'min_samples_split': [5, 10, 15],\n",
    "              'min_samples_leaf' : [4, 8, 12],\n",
    "              'n_estimators' : [300, 400, 500]\n",
    "             }\n",
    "\n",
    "grid_clf = GridSearchCV(estimator = rdf, param_grid = params, cv = cv, n_jobs=-1, verbose=4)\n",
    "grid_clf.fit(X_train, y_train)"
   ]
  },
  {
   "cell_type": "code",
   "execution_count": null,
   "metadata": {},
   "outputs": [],
   "source": []
  }
 ],
 "metadata": {
  "kernelspec": {
   "display_name": "Python 3",
   "language": "python",
   "name": "python3"
  },
  "language_info": {
   "codemirror_mode": {
    "name": "ipython",
    "version": 3
   },
   "file_extension": ".py",
   "mimetype": "text/x-python",
   "name": "python",
   "nbconvert_exporter": "python",
   "pygments_lexer": "ipython3",
   "version": "3.7.4"
  }
 },
 "nbformat": 4,
 "nbformat_minor": 2
}
