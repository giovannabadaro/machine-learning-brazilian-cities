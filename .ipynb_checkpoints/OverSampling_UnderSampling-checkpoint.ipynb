{
 "cells": [
  {
   "cell_type": "code",
   "execution_count": 2,
   "metadata": {},
   "outputs": [],
   "source": [
    "import pandas as pd\n",
    "import seaborn as sns\n",
    "import matplotlib.pyplot as plt\n",
    "import seaborn as sns\n",
    "import numpy as np\n",
    "import imblearn\n",
    "\n",
    "from sklearn.metrics import confusion_matrix\n",
    "from sklearn.metrics import accuracy_score\n",
    "from sklearn.metrics import recall_score\n",
    "from sklearn.metrics import precision_score\n",
    "\n",
    "from sklearn.ensemble import RandomForestClassifier\n",
    "from sklearn.model_selection import train_test_split"
   ]
  },
  {
   "cell_type": "code",
   "execution_count": 3,
   "metadata": {},
   "outputs": [
    {
     "ename": "NameError",
     "evalue": "name 'd' is not defined",
     "output_type": "error",
     "traceback": [
      "\u001b[0;31m---------------------------------------------------------------------------\u001b[0m",
      "\u001b[0;31mNameError\u001b[0m                                 Traceback (most recent call last)",
      "\u001b[0;32m<ipython-input-3-e48c30f16ea7>\u001b[0m in \u001b[0;36m<module>\u001b[0;34m\u001b[0m\n\u001b[0;32m----> 1\u001b[0;31m \u001b[0md\u001b[0m\u001b[0;34m.\u001b[0m\u001b[0moptions\u001b[0m\u001b[0;34m.\u001b[0m\u001b[0mdisplay\u001b[0m\u001b[0;34m.\u001b[0m\u001b[0mmax_rows\u001b[0m \u001b[0;34m=\u001b[0m \u001b[0;36m6000\u001b[0m\u001b[0;34m\u001b[0m\u001b[0;34m\u001b[0m\u001b[0m\n\u001b[0m\u001b[1;32m      2\u001b[0m \u001b[0mpd\u001b[0m\u001b[0;34m.\u001b[0m\u001b[0moptions\u001b[0m\u001b[0;34m.\u001b[0m\u001b[0mdisplay\u001b[0m\u001b[0;34m.\u001b[0m\u001b[0mmax_columns\u001b[0m \u001b[0;34m=\u001b[0m \u001b[0;36m80\u001b[0m\u001b[0;34m\u001b[0m\u001b[0;34m\u001b[0m\u001b[0m\n\u001b[1;32m      3\u001b[0m \u001b[0;34m\u001b[0m\u001b[0m\n\u001b[1;32m      4\u001b[0m \u001b[0mdata\u001b[0m \u001b[0;34m=\u001b[0m \u001b[0mpd\u001b[0m\u001b[0;34m.\u001b[0m\u001b[0mread_csv\u001b[0m\u001b[0;34m(\u001b[0m\u001b[0;34m'./brazilian-cities/BRAZIL_CITIES.csv'\u001b[0m\u001b[0;34m,\u001b[0m \u001b[0msep\u001b[0m\u001b[0;34m=\u001b[0m\u001b[0;34m\";\"\u001b[0m\u001b[0;34m,\u001b[0m \u001b[0mdecimal\u001b[0m\u001b[0;34m=\u001b[0m\u001b[0;34m\",\"\u001b[0m\u001b[0;34m)\u001b[0m\u001b[0;34m\u001b[0m\u001b[0;34m\u001b[0m\u001b[0m\n\u001b[1;32m      5\u001b[0m \u001b[0;34m\u001b[0m\u001b[0m\n",
      "\u001b[0;31mNameError\u001b[0m: name 'd' is not defined"
     ]
    }
   ],
   "source": [
    "pd.options.display.max_rows = 6000\n",
    "pd.options.display.max_columns = 80\n",
    "\n",
    "data = pd.read_csv('./brazilian-cities/BRAZIL_CITIES.csv', sep=\";\", decimal=\",\")\n",
    "\n",
    "##note que a df está sem a feature AREA e RURAL_URBAN\n",
    "\n",
    "ft1 = [\"IBGE_RES_POP\", \"IBGE_RES_POP_BRAS\", \"IBGE_RES_POP_ESTR\", \"IBGE_DU\", \"IBGE_DU_URBAN\", \"IBGE_DU_RURAL\", \"IBGE_POP\", \"IBGE_1\", \"IBGE_1-4\", \"IBGE_5-9\", \"IBGE_10-14\", \"IBGE_15-59\", \"IBGE_60+\", \"IBGE_PLANTED_AREA\", \"IBGE_CROP_PRODUCTION_$\", \"IDHM Ranking 2010\", \"IDHM\", \"IDHM_Renda\", \"IDHM_Longevidade\", \"IDHM_Educacao\", \"LONG\", \"LAT\", \"ALT\", \"PAY_TV\", \"FIXED_PHONES\", \"ESTIMATED_POP\", \"GVA_AGROPEC\", \"GVA_INDUSTRY\", \"GVA_SERVICES\", \"GVA_PUBLIC\", \"TAXES\", \"GDP\", \"POP_GDP\", \"GDP_CAPITA\", \"MUN_EXPENDIT\", \"COMP_TOT\", \"COMP_A\", \"COMP_B\", \"COMP_C\", \"COMP_D\", \"COMP_E\", \"COMP_F\", \"COMP_G\", \"COMP_H\", \"COMP_I\", \"COMP_J\", \"COMP_K\", \"COMP_L\", \"COMP_M\", \"COMP_N\", \"COMP_O\", \"COMP_P\", \"COMP_Q\", \"COMP_R\", \"COMP_S\", \"COMP_T\", \"COMP_U\", \"HOTELS\", \"BEDS\", \"Pr_Agencies\", \"Pu_Agencies\", \"Pr_Bank\", \"Pu_Bank\", \"Pr_Assets\", \"Pu_Assets\", \"Cars\", \"Motorcycles\", \"Wheeled_tractor\", \"UBER\", \"MAC\", \"WAL-MART\", \"POST_OFFICES\"]\n",
    "df1 = data[ft1]\n",
    "\n",
    "ft = [\"IBGE_RES_POP\", \"IBGE_RES_POP_BRAS\", \"IBGE_RES_POP_ESTR\", \"IBGE_DU\", \"IBGE_DU_URBAN\", \"IBGE_DU_RURAL\", \"IBGE_POP\", \"IBGE_1\", \"IBGE_1-4\", \"IBGE_5-9\", \"IBGE_10-14\", \"IBGE_15-59\", \"IBGE_60+\", \"IBGE_PLANTED_AREA\", \"IBGE_CROP_PRODUCTION_$\",\"LONG\", \"LAT\" ,\"ALT\", \"PAY_TV\", \"FIXED_PHONES\", \"ESTIMATED_POP\", \"GVA_AGROPEC\", \"GVA_INDUSTRY\", \"GVA_SERVICES\", \"GVA_PUBLIC\", \"TAXES\", \"GDP\", \"POP_GDP\", \"MUN_EXPENDIT\", \"COMP_TOT\", \"COMP_A\", \"COMP_B\", \"COMP_C\", \"COMP_D\", \"COMP_E\", \"COMP_F\", \"COMP_G\", \"COMP_H\", \"COMP_I\", \"COMP_J\", \"COMP_K\", \"COMP_L\", \"COMP_M\", \"COMP_N\", \"COMP_O\", \"COMP_P\", \"COMP_Q\", \"COMP_R\", \"COMP_S\", \"COMP_T\", \"COMP_U\", \"HOTELS\", \"BEDS\", \"Pr_Agencies\", \"Pu_Agencies\", \"Pr_Bank\", \"Pu_Bank\", \"Pr_Assets\", \"Pu_Assets\", \"Cars\", \"Motorcycles\", \"Wheeled_tractor\", \"UBER\", \"MAC\", \"WAL-MART\", \"POST_OFFICES\"]\n",
    "df = data[ft]"
   ]
  },
  {
   "cell_type": "code",
   "execution_count": null,
   "metadata": {},
   "outputs": [],
   "source": []
  }
 ],
 "metadata": {
  "kernelspec": {
   "display_name": "Python 3",
   "language": "python",
   "name": "python3"
  },
  "language_info": {
   "codemirror_mode": {
    "name": "ipython",
    "version": 3
   },
   "file_extension": ".py",
   "mimetype": "text/x-python",
   "name": "python",
   "nbconvert_exporter": "python",
   "pygments_lexer": "ipython3",
   "version": "3.7.4"
  }
 },
 "nbformat": 4,
 "nbformat_minor": 2
}
